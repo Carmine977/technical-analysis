{
 "cells": [
  {
   "cell_type": "code",
   "execution_count": 13,
   "metadata": {},
   "outputs": [],
   "source": [
    "from tradinglab.stock_manager import * \n",
    "import pandas as pd"
   ]
  },
  {
   "cell_type": "markdown",
   "metadata": {},
   "source": [
    "**Create a new Archive**"
   ]
  },
  {
   "cell_type": "code",
   "execution_count": 14,
   "metadata": {},
   "outputs": [],
   "source": [
    "# Load stocks tickers \n",
    "df = pd.read_csv('.\\data\\FMIB_tickers.csv', index_col=[0])\n",
    "tickers = df.index"
   ]
  },
  {
   "cell_type": "code",
   "execution_count": 15,
   "metadata": {},
   "outputs": [],
   "source": [
    "# Initialize a new empty archive\n",
    "data = stock_manager(archive='FMIB_stocks')"
   ]
  },
  {
   "cell_type": "code",
   "execution_count": 16,
   "metadata": {},
   "outputs": [
    {
     "name": "stdout",
     "output_type": "stream",
     "text": [
      "Downloading new records from 2018-1-1 to 2018-12-31.\n"
     ]
    },
    {
     "name": "stderr",
     "output_type": "stream",
     "text": [
      "c:\\users\\105034701\\appdata\\local\\programs\\python\\python36\\lib\\site-packages\\pandas_datareader\\base.py:270: SymbolWarning: Failed to read symbol: 'NEXI.MI', replacing with NaN.\n",
      "  warnings.warn(msg.format(sym), SymbolWarning)\n"
     ]
    },
    {
     "name": "stdout",
     "output_type": "stream",
     "text": [
      "#252 records downloaded\n"
     ]
    }
   ],
   "source": [
    "# Download 1 year data from yahoo\n",
    "data.downlaod(tickers, '2018-1-1', '2018-12-31')"
   ]
  },
  {
   "cell_type": "code",
   "execution_count": 17,
   "metadata": {},
   "outputs": [
    {
     "name": "stdout",
     "output_type": "stream",
     "text": [
      "First available record: 2018-01-02\n",
      "Last available record:  2018-12-28\n",
      "Total number of records: 360\n",
      "\n"
     ]
    }
   ],
   "source": [
    "# Check archive status\n",
    "data.status()"
   ]
  },
  {
   "cell_type": "code",
   "execution_count": 18,
   "metadata": {},
   "outputs": [
    {
     "name": "stdout",
     "output_type": "stream",
     "text": [
      "Downloading new records from 2018-12-29 to 2020-01-05.\n",
      "#254 records added to \"data\\FMIB_stocks.pkl\"\n"
     ]
    }
   ],
   "source": [
    "# Update existing archive with most recent data\n",
    "data.update()"
   ]
  },
  {
   "cell_type": "code",
   "execution_count": 19,
   "metadata": {},
   "outputs": [
    {
     "name": "stdout",
     "output_type": "stream",
     "text": [
      "First available record: 2018-01-02\n",
      "Last available record:  2020-01-03\n",
      "Total number of records: 731\n",
      "\n"
     ]
    }
   ],
   "source": [
    "# Check archive status\n",
    "data.status()"
   ]
  },
  {
   "cell_type": "markdown",
   "metadata": {},
   "source": [
    "**Work with an existing archive**"
   ]
  },
  {
   "cell_type": "code",
   "execution_count": 20,
   "metadata": {},
   "outputs": [
    {
     "name": "stdout",
     "output_type": "stream",
     "text": [
      "First available record: 2018-01-02\n",
      "Last available record:  2020-01-03\n",
      "Total number of records: 731\n",
      "\n"
     ]
    }
   ],
   "source": [
    "# Load archive\n",
    "data = stock_manager(archive='FMIB_stocks')\n",
    "data.status()"
   ]
  },
  {
   "cell_type": "code",
   "execution_count": 21,
   "metadata": {
    "scrolled": true
   },
   "outputs": [
    {
     "name": "stdout",
     "output_type": "stream",
     "text": [
      "Tickers: \n",
      "A2A.MI\n",
      "AMP.MI\n",
      "ATL.MI\n",
      "AZM.MI\n",
      "BAMI.MI\n",
      "BPE.MI\n",
      "BZU.MI\n",
      "CNHI.MI\n",
      "CPR.MI\n",
      "DIA.MI\n",
      "ENEL.MI\n",
      "ENI.MI\n",
      "EXO.MI\n",
      "FBK.MI\n",
      "FCA.MI\n",
      "G.MI\n",
      "HER.MI\n",
      "IG.MI\n",
      "ISP.MI\n",
      "JUVE.MI\n",
      "LDO.MI\n",
      "MB.MI\n",
      "MONC.MI\n",
      "NEXI.MI\n",
      "PIRC.MI\n",
      "PRY.MI\n",
      "PST.MI\n",
      "RACE.MI\n",
      "REC.MI\n",
      "SFER.MI\n",
      "SPM.MI\n",
      "SRG.MI\n",
      "STM.MI\n",
      "TEN.MI\n",
      "TIT.MI\n",
      "TRN.MI\n",
      "UBI.MI\n",
      "UCG.MI\n",
      "UNI.MI\n",
      "US.MI\n",
      "#40 tickers found in \"data\\FMIB_stocks.pkl\".\n",
      "\n"
     ]
    }
   ],
   "source": [
    "# Visualize stock tickers\n",
    "data.tickers()"
   ]
  },
  {
   "cell_type": "code",
   "execution_count": 22,
   "metadata": {},
   "outputs": [
    {
     "name": "stdout",
     "output_type": "stream",
     "text": [
      "['A2A.MI', 'AMP.MI', 'ATL.MI', 'AZM.MI', 'BAMI.MI', 'BPE.MI', 'BZU.MI', 'CNHI.MI', 'CPR.MI', 'DIA.MI', 'ENEL.MI', 'ENI.MI', 'EXO.MI', 'FBK.MI', 'FCA.MI', 'G.MI', 'HER.MI', 'IG.MI', 'ISP.MI', 'JUVE.MI', 'LDO.MI', 'MB.MI', 'MONC.MI', 'NEXI.MI', 'PIRC.MI', 'PRY.MI', 'PST.MI', 'RACE.MI', 'REC.MI', 'SFER.MI', 'SPM.MI', 'SRG.MI', 'STM.MI', 'TEN.MI', 'TIT.MI', 'TRN.MI', 'UBI.MI', 'UCG.MI', 'UNI.MI', 'US.MI']\n"
     ]
    }
   ],
   "source": [
    "# Get stock tickers list\n",
    "ticker_list = data.ticker_list\n",
    "print(ticker_list)"
   ]
  },
  {
   "cell_type": "code",
   "execution_count": 23,
   "metadata": {},
   "outputs": [
    {
     "data": {
      "text/html": [
       "<div>\n",
       "<style scoped>\n",
       "    .dataframe tbody tr th:only-of-type {\n",
       "        vertical-align: middle;\n",
       "    }\n",
       "\n",
       "    .dataframe tbody tr th {\n",
       "        vertical-align: top;\n",
       "    }\n",
       "\n",
       "    .dataframe thead tr th {\n",
       "        text-align: left;\n",
       "    }\n",
       "\n",
       "    .dataframe thead tr:last-of-type th {\n",
       "        text-align: right;\n",
       "    }\n",
       "</style>\n",
       "<table border=\"1\" class=\"dataframe\">\n",
       "  <thead>\n",
       "    <tr>\n",
       "      <th>Attributes</th>\n",
       "      <th colspan=\"10\" halign=\"left\">Adj Close</th>\n",
       "      <th>...</th>\n",
       "      <th colspan=\"10\" halign=\"left\">Volume</th>\n",
       "    </tr>\n",
       "    <tr>\n",
       "      <th>Symbols</th>\n",
       "      <th>A2A.MI</th>\n",
       "      <th>AMP.MI</th>\n",
       "      <th>ATL.MI</th>\n",
       "      <th>AZM.MI</th>\n",
       "      <th>BAMI.MI</th>\n",
       "      <th>BPE.MI</th>\n",
       "      <th>BZU.MI</th>\n",
       "      <th>CNHI.MI</th>\n",
       "      <th>CPR.MI</th>\n",
       "      <th>DIA.MI</th>\n",
       "      <th>...</th>\n",
       "      <th>SPM.MI</th>\n",
       "      <th>SRG.MI</th>\n",
       "      <th>STM.MI</th>\n",
       "      <th>TEN.MI</th>\n",
       "      <th>TIT.MI</th>\n",
       "      <th>TRN.MI</th>\n",
       "      <th>UBI.MI</th>\n",
       "      <th>UCG.MI</th>\n",
       "      <th>UNI.MI</th>\n",
       "      <th>US.MI</th>\n",
       "    </tr>\n",
       "    <tr>\n",
       "      <th>Date</th>\n",
       "      <th></th>\n",
       "      <th></th>\n",
       "      <th></th>\n",
       "      <th></th>\n",
       "      <th></th>\n",
       "      <th></th>\n",
       "      <th></th>\n",
       "      <th></th>\n",
       "      <th></th>\n",
       "      <th></th>\n",
       "      <th></th>\n",
       "      <th></th>\n",
       "      <th></th>\n",
       "      <th></th>\n",
       "      <th></th>\n",
       "      <th></th>\n",
       "      <th></th>\n",
       "      <th></th>\n",
       "      <th></th>\n",
       "      <th></th>\n",
       "      <th></th>\n",
       "    </tr>\n",
       "  </thead>\n",
       "  <tbody>\n",
       "    <tr>\n",
       "      <th>2018-01-02</th>\n",
       "      <td>1.398826</td>\n",
       "      <td>12.737254</td>\n",
       "      <td>24.540239</td>\n",
       "      <td>12.911083</td>\n",
       "      <td>2.644</td>\n",
       "      <td>3.928583</td>\n",
       "      <td>22.558758</td>\n",
       "      <td>10.853815</td>\n",
       "      <td>6.268392</td>\n",
       "      <td>73.040840</td>\n",
       "      <td>...</td>\n",
       "      <td>7216825.0</td>\n",
       "      <td>7736954.0</td>\n",
       "      <td>2515516.0</td>\n",
       "      <td>2445405.0</td>\n",
       "      <td>66072337.0</td>\n",
       "      <td>5921602.0</td>\n",
       "      <td>10990123.0</td>\n",
       "      <td>16562879.0</td>\n",
       "      <td>4616516.0</td>\n",
       "      <td>4668787.0</td>\n",
       "    </tr>\n",
       "    <tr>\n",
       "      <th>2018-01-03</th>\n",
       "      <td>1.393312</td>\n",
       "      <td>12.786548</td>\n",
       "      <td>24.624636</td>\n",
       "      <td>12.789825</td>\n",
       "      <td>2.590</td>\n",
       "      <td>3.900252</td>\n",
       "      <td>22.904598</td>\n",
       "      <td>10.902225</td>\n",
       "      <td>6.214142</td>\n",
       "      <td>73.383980</td>\n",
       "      <td>...</td>\n",
       "      <td>6978060.0</td>\n",
       "      <td>11173603.0</td>\n",
       "      <td>3876386.0</td>\n",
       "      <td>2509224.0</td>\n",
       "      <td>54839157.0</td>\n",
       "      <td>6398177.0</td>\n",
       "      <td>9055372.0</td>\n",
       "      <td>13760071.0</td>\n",
       "      <td>4004992.0</td>\n",
       "      <td>5903083.0</td>\n",
       "    </tr>\n",
       "    <tr>\n",
       "      <th>2018-01-04</th>\n",
       "      <td>1.442941</td>\n",
       "      <td>13.131596</td>\n",
       "      <td>24.962215</td>\n",
       "      <td>13.008108</td>\n",
       "      <td>2.664</td>\n",
       "      <td>4.006021</td>\n",
       "      <td>23.398659</td>\n",
       "      <td>11.241104</td>\n",
       "      <td>6.174687</td>\n",
       "      <td>74.364395</td>\n",
       "      <td>...</td>\n",
       "      <td>15984969.0</td>\n",
       "      <td>11878618.0</td>\n",
       "      <td>3745837.0</td>\n",
       "      <td>3197812.0</td>\n",
       "      <td>59740478.0</td>\n",
       "      <td>7613590.0</td>\n",
       "      <td>16224188.0</td>\n",
       "      <td>18957560.0</td>\n",
       "      <td>4587837.0</td>\n",
       "      <td>5910948.0</td>\n",
       "    </tr>\n",
       "    <tr>\n",
       "      <th>2018-01-05</th>\n",
       "      <td>1.464080</td>\n",
       "      <td>13.141455</td>\n",
       "      <td>25.468586</td>\n",
       "      <td>13.064741</td>\n",
       "      <td>2.640</td>\n",
       "      <td>4.015465</td>\n",
       "      <td>23.576519</td>\n",
       "      <td>11.308881</td>\n",
       "      <td>6.273324</td>\n",
       "      <td>75.295792</td>\n",
       "      <td>...</td>\n",
       "      <td>7589655.0</td>\n",
       "      <td>10162870.0</td>\n",
       "      <td>2344444.0</td>\n",
       "      <td>2398078.0</td>\n",
       "      <td>58871069.0</td>\n",
       "      <td>8237905.0</td>\n",
       "      <td>10447182.0</td>\n",
       "      <td>13228956.0</td>\n",
       "      <td>3566657.0</td>\n",
       "      <td>5128716.0</td>\n",
       "    </tr>\n",
       "    <tr>\n",
       "      <th>2018-01-08</th>\n",
       "      <td>1.462242</td>\n",
       "      <td>13.092162</td>\n",
       "      <td>25.318550</td>\n",
       "      <td>13.105133</td>\n",
       "      <td>2.690</td>\n",
       "      <td>4.009799</td>\n",
       "      <td>23.714855</td>\n",
       "      <td>11.541255</td>\n",
       "      <td>6.233870</td>\n",
       "      <td>78.482140</td>\n",
       "      <td>...</td>\n",
       "      <td>7290423.0</td>\n",
       "      <td>9239661.0</td>\n",
       "      <td>1909146.0</td>\n",
       "      <td>3091939.0</td>\n",
       "      <td>126179734.0</td>\n",
       "      <td>5336764.0</td>\n",
       "      <td>6767510.0</td>\n",
       "      <td>10993686.0</td>\n",
       "      <td>3149563.0</td>\n",
       "      <td>5511020.0</td>\n",
       "    </tr>\n",
       "  </tbody>\n",
       "</table>\n",
       "<p>5 rows × 240 columns</p>\n",
       "</div>"
      ],
      "text/plain": [
       "Attributes Adj Close                                                     \\\n",
       "Symbols       A2A.MI     AMP.MI     ATL.MI     AZM.MI BAMI.MI    BPE.MI   \n",
       "Date                                                                      \n",
       "2018-01-02  1.398826  12.737254  24.540239  12.911083   2.644  3.928583   \n",
       "2018-01-03  1.393312  12.786548  24.624636  12.789825   2.590  3.900252   \n",
       "2018-01-04  1.442941  13.131596  24.962215  13.008108   2.664  4.006021   \n",
       "2018-01-05  1.464080  13.141455  25.468586  13.064741   2.640  4.015465   \n",
       "2018-01-08  1.462242  13.092162  25.318550  13.105133   2.690  4.009799   \n",
       "\n",
       "Attributes                                             ...      Volume  \\\n",
       "Symbols        BZU.MI    CNHI.MI    CPR.MI     DIA.MI  ...      SPM.MI   \n",
       "Date                                                   ...               \n",
       "2018-01-02  22.558758  10.853815  6.268392  73.040840  ...   7216825.0   \n",
       "2018-01-03  22.904598  10.902225  6.214142  73.383980  ...   6978060.0   \n",
       "2018-01-04  23.398659  11.241104  6.174687  74.364395  ...  15984969.0   \n",
       "2018-01-05  23.576519  11.308881  6.273324  75.295792  ...   7589655.0   \n",
       "2018-01-08  23.714855  11.541255  6.233870  78.482140  ...   7290423.0   \n",
       "\n",
       "Attributes                                                            \\\n",
       "Symbols         SRG.MI     STM.MI     TEN.MI       TIT.MI     TRN.MI   \n",
       "Date                                                                   \n",
       "2018-01-02   7736954.0  2515516.0  2445405.0   66072337.0  5921602.0   \n",
       "2018-01-03  11173603.0  3876386.0  2509224.0   54839157.0  6398177.0   \n",
       "2018-01-04  11878618.0  3745837.0  3197812.0   59740478.0  7613590.0   \n",
       "2018-01-05  10162870.0  2344444.0  2398078.0   58871069.0  8237905.0   \n",
       "2018-01-08   9239661.0  1909146.0  3091939.0  126179734.0  5336764.0   \n",
       "\n",
       "Attributes                                                \n",
       "Symbols         UBI.MI      UCG.MI     UNI.MI      US.MI  \n",
       "Date                                                      \n",
       "2018-01-02  10990123.0  16562879.0  4616516.0  4668787.0  \n",
       "2018-01-03   9055372.0  13760071.0  4004992.0  5903083.0  \n",
       "2018-01-04  16224188.0  18957560.0  4587837.0  5910948.0  \n",
       "2018-01-05  10447182.0  13228956.0  3566657.0  5128716.0  \n",
       "2018-01-08   6767510.0  10993686.0  3149563.0  5511020.0  \n",
       "\n",
       "[5 rows x 240 columns]"
      ]
     },
     "execution_count": 23,
     "metadata": {},
     "output_type": "execute_result"
    }
   ],
   "source": [
    "# Visualize stocks data\n",
    "data.data.head()"
   ]
  },
  {
   "cell_type": "code",
   "execution_count": 24,
   "metadata": {
    "scrolled": true
   },
   "outputs": [
    {
     "data": {
      "text/html": [
       "<div>\n",
       "<style scoped>\n",
       "    .dataframe tbody tr th:only-of-type {\n",
       "        vertical-align: middle;\n",
       "    }\n",
       "\n",
       "    .dataframe tbody tr th {\n",
       "        vertical-align: top;\n",
       "    }\n",
       "\n",
       "    .dataframe thead th {\n",
       "        text-align: right;\n",
       "    }\n",
       "</style>\n",
       "<table border=\"1\" class=\"dataframe\">\n",
       "  <thead>\n",
       "    <tr style=\"text-align: right;\">\n",
       "      <th></th>\n",
       "      <th>Open</th>\n",
       "      <th>High</th>\n",
       "      <th>Low</th>\n",
       "      <th>Close</th>\n",
       "      <th>Adj Close</th>\n",
       "      <th>Volume</th>\n",
       "    </tr>\n",
       "    <tr>\n",
       "      <th>Date</th>\n",
       "      <th></th>\n",
       "      <th></th>\n",
       "      <th></th>\n",
       "      <th></th>\n",
       "      <th></th>\n",
       "      <th></th>\n",
       "    </tr>\n",
       "  </thead>\n",
       "  <tbody>\n",
       "    <tr>\n",
       "      <th>2018-01-02</th>\n",
       "      <td>1.542</td>\n",
       "      <td>1.548</td>\n",
       "      <td>1.507</td>\n",
       "      <td>1.522</td>\n",
       "      <td>1.398826</td>\n",
       "      <td>8064937.0</td>\n",
       "    </tr>\n",
       "    <tr>\n",
       "      <th>2018-01-03</th>\n",
       "      <td>1.526</td>\n",
       "      <td>1.526</td>\n",
       "      <td>1.505</td>\n",
       "      <td>1.516</td>\n",
       "      <td>1.393312</td>\n",
       "      <td>8323296.0</td>\n",
       "    </tr>\n",
       "    <tr>\n",
       "      <th>2018-01-04</th>\n",
       "      <td>1.517</td>\n",
       "      <td>1.574</td>\n",
       "      <td>1.517</td>\n",
       "      <td>1.570</td>\n",
       "      <td>1.442941</td>\n",
       "      <td>13710193.0</td>\n",
       "    </tr>\n",
       "    <tr>\n",
       "      <th>2018-01-05</th>\n",
       "      <td>1.575</td>\n",
       "      <td>1.593</td>\n",
       "      <td>1.566</td>\n",
       "      <td>1.593</td>\n",
       "      <td>1.464080</td>\n",
       "      <td>8871141.0</td>\n",
       "    </tr>\n",
       "    <tr>\n",
       "      <th>2018-01-08</th>\n",
       "      <td>1.589</td>\n",
       "      <td>1.592</td>\n",
       "      <td>1.575</td>\n",
       "      <td>1.591</td>\n",
       "      <td>1.462242</td>\n",
       "      <td>4094274.0</td>\n",
       "    </tr>\n",
       "  </tbody>\n",
       "</table>\n",
       "</div>"
      ],
      "text/plain": [
       "             Open   High    Low  Close  Adj Close      Volume\n",
       "Date                                                         \n",
       "2018-01-02  1.542  1.548  1.507  1.522   1.398826   8064937.0\n",
       "2018-01-03  1.526  1.526  1.505  1.516   1.393312   8323296.0\n",
       "2018-01-04  1.517  1.574  1.517  1.570   1.442941  13710193.0\n",
       "2018-01-05  1.575  1.593  1.566  1.593   1.464080   8871141.0\n",
       "2018-01-08  1.589  1.592  1.575  1.591   1.462242   4094274.0"
      ]
     },
     "execution_count": 24,
     "metadata": {},
     "output_type": "execute_result"
    }
   ],
   "source": [
    "# Get market data of a specific ticker\n",
    "a2a = data.stock_price('A2A.MI')\n",
    "a2a.head()"
   ]
  },
  {
   "cell_type": "code",
   "execution_count": null,
   "metadata": {},
   "outputs": [],
   "source": []
  }
 ],
 "metadata": {
  "kernelspec": {
   "display_name": "Python 3",
   "language": "python",
   "name": "python3"
  },
  "language_info": {
   "codemirror_mode": {
    "name": "ipython",
    "version": 3
   },
   "file_extension": ".py",
   "mimetype": "text/x-python",
   "name": "python",
   "nbconvert_exporter": "python",
   "pygments_lexer": "ipython3",
   "version": "3.6.8"
  }
 },
 "nbformat": 4,
 "nbformat_minor": 2
}
